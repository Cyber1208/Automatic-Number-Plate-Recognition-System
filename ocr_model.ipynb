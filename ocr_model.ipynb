{
 "cells": [
  {
   "cell_type": "code",
   "execution_count": 1,
   "metadata": {},
   "outputs": [],
   "source": [
    "import cv2\n",
    "import easyocr\n",
    "from ultralytics import YOLO"
   ]
  },
  {
   "cell_type": "code",
   "execution_count": 2,
   "metadata": {},
   "outputs": [],
   "source": [
    "# Step 1: Load YOLO model for license plate detection\n",
    "model = YOLO(\"D:/anpr2/runs/detect/train_final.pt\")  # Load your trained YOLO model"
   ]
  },
  {
   "cell_type": "code",
   "execution_count": 3,
   "metadata": {},
   "outputs": [],
   "source": [
    "# Step 2: Initialize EasyOCR Reader for text recognition (OCR)\n",
    "reader = easyocr.Reader(['en'], gpu=True)  # Initialize OCR reader with English"
   ]
  },
  {
   "cell_type": "code",
   "execution_count": 4,
   "metadata": {},
   "outputs": [],
   "source": [
    "# Step 3: Load an image for inference\n",
    "img_path = \"D:/anpr2/image3.jpg\"  # Path to your image\n",
    "img = cv2.imread(img_path)"
   ]
  },
  {
   "cell_type": "code",
   "execution_count": 5,
   "metadata": {},
   "outputs": [
    {
     "name": "stdout",
     "output_type": "stream",
     "text": [
      "\n",
      "0: 384x640 1 license_plate, 75.0ms\n",
      "Speed: 6.0ms preprocess, 75.0ms inference, 153.7ms postprocess per image at shape (1, 3, 384, 640)\n"
     ]
    }
   ],
   "source": [
    "# Step 4: Perform inference to detect license plate\n",
    "results = model.predict(img)"
   ]
  },
  {
   "cell_type": "code",
   "execution_count": 6,
   "metadata": {},
   "outputs": [
    {
     "name": "stdout",
     "output_type": "stream",
     "text": [
      "Detected License Plate: (BJY 982]\n"
     ]
    }
   ],
   "source": [
    "for result in results:\n",
    "    boxes = result.boxes.xyxy  # Coordinates for the bounding boxes\n",
    "    if len(boxes) > 0:\n",
    "        # Take the first detected bounding box (for the license plate)\n",
    "        box = boxes[0]\n",
    "        x1, y1, x2, y2 = map(int, box)  # Convert to integer\n",
    "\n",
    "        # Step 6: Crop the license plate from the image\n",
    "        cropped_license_plate = img[y1:y2, x1:x2]\n",
    "\n",
    "        # Step 7: Preprocess the cropped license plate for OCR\n",
    "        gray = cv2.cvtColor(cropped_license_plate, cv2.COLOR_BGR2GRAY)  # Convert to grayscale\n",
    "        _, thresh = cv2.threshold(gray, 0, 255, cv2.THRESH_BINARY + cv2.THRESH_OTSU)  # Threshold\n",
    "        denoised = cv2.GaussianBlur(thresh, (5, 5), 0)  # Denoising\n",
    "\n",
    "        # Step 8: Perform OCR (text recognition) on the cropped and preprocessed license plate\n",
    "        result = reader.readtext(denoised)\n",
    "\n",
    "        # Step 9: Extract and display the detected text (license plate number)\n",
    "        for detection in result:\n",
    "            license_plate_text = detection[1]  # Extracted text\n",
    "            print(f\"Detected License Plate: {license_plate_text}\")\n",
    "            \n",
    "            # Step 10: Draw the bounding box and recognized text on the image\n",
    "            cv2.rectangle(img, (x1, y1), (x2, y2), (0, 255, 0), 2)\n",
    "            cv2.putText(img, license_plate_text, (x1, y1 - 10), cv2.FONT_HERSHEY_SIMPLEX, 0.9, (0, 255, 0), 2)\n"
   ]
  },
  {
   "cell_type": "code",
   "execution_count": 8,
   "metadata": {},
   "outputs": [],
   "source": [
    "  # Show the result image\n",
    "cv2.imshow(\"Detected License Plate\", img)\n",
    "cv2.waitKey(0)\n",
    "cv2.destroyAllWindows()"
   ]
  }
 ],
 "metadata": {
  "kernelspec": {
   "display_name": "tfodj",
   "language": "python",
   "name": "tfodj"
  },
  "language_info": {
   "codemirror_mode": {
    "name": "ipython",
    "version": 3
   },
   "file_extension": ".py",
   "mimetype": "text/x-python",
   "name": "python",
   "nbconvert_exporter": "python",
   "pygments_lexer": "ipython3",
   "version": "3.12.0"
  }
 },
 "nbformat": 4,
 "nbformat_minor": 2
}
