{
 "cells": [
  {
   "cell_type": "code",
   "execution_count": 5,
   "metadata": {},
   "outputs": [],
   "source": [
    "import tensorflow as tf\n",
    "from tensorflow.keras.models import Sequential\n",
    "from tensorflow.keras.layers import Conv2D, MaxPooling2D, Flatten, Dense, Input\n",
    "from tensorflow.keras.preprocessing.image import ImageDataGenerator"
   ]
  },
  {
   "cell_type": "code",
   "execution_count": null,
   "metadata": {},
   "outputs": [],
   "source": [
    "\n",
    "train_dir = \"chars74k/train\"  \n",
    "val_dir = \"chars74k/val\"      "
   ]
  },
  {
   "cell_type": "code",
   "execution_count": null,
   "metadata": {},
   "outputs": [
    {
     "name": "stdout",
     "output_type": "stream",
     "text": [
      "Found 36576 images belonging to 36 classes.\n",
      "Found 12398 images belonging to 36 classes.\n"
     ]
    }
   ],
   "source": [
    "\n",
    "datagen = ImageDataGenerator(rescale=1.0/255, rotation_range=10, zoom_range=0.2)\n",
    "train_data = datagen.flow_from_directory(train_dir, target_size=(28, 28), color_mode='grayscale', batch_size=32, class_mode='sparse')\n",
    "val_data = datagen.flow_from_directory(val_dir, target_size=(28, 28), color_mode='grayscale', batch_size=32, class_mode='sparse')"
   ]
  },
  {
   "cell_type": "code",
   "execution_count": null,
   "metadata": {},
   "outputs": [],
   "source": [
    "from tensorflow.keras.models import Sequential\n",
    "from tensorflow.keras.layers import Conv2D, MaxPooling2D, Flatten, Dense, Input\n",
    "\n",
    "\n",
    "model = Sequential([\n",
    "    Input(shape=(28, 28, 1)),  \n",
    "    Conv2D(32, (3, 3), activation='relu'),  \n",
    "    MaxPooling2D((2, 2)),  \n",
    "    Conv2D(64, (3, 3), activation='relu'),  \n",
    "    MaxPooling2D((2, 2)),  \n",
    "    Flatten(),  \n",
    "    Dense(128, activation='relu'),  \n",
    "    Dense(36, activation='softmax')  \n",
    "])\n",
    "\n",
    "model.compile(optimizer='adam', loss='sparse_categorical_crossentropy', metrics=['accuracy'])\n"
   ]
  },
  {
   "cell_type": "code",
   "execution_count": null,
   "metadata": {},
   "outputs": [
    {
     "name": "stdout",
     "output_type": "stream",
     "text": [
      "Found 36576 images belonging to 36 classes.\n"
     ]
    },
    {
     "name": "stderr",
     "output_type": "stream",
     "text": [
      "c:\\Users\\Lenovo\\AppData\\Local\\Programs\\Python\\Python312\\Lib\\site-packages\\keras\\src\\trainers\\data_adapters\\py_dataset_adapter.py:121: UserWarning: Your `PyDataset` class should call `super().__init__(**kwargs)` in its constructor. `**kwargs` can include `workers`, `use_multiprocessing`, `max_queue_size`. Do not pass these arguments to `fit()`, as they will be ignored.\n",
      "  self._warn_if_super_not_called()\n"
     ]
    },
    {
     "name": "stdout",
     "output_type": "stream",
     "text": [
      "Epoch 1/5\n",
      "\u001b[1m1143/1143\u001b[0m \u001b[32m━━━━━━━━━━━━━━━━━━━━\u001b[0m\u001b[37m\u001b[0m \u001b[1m538s\u001b[0m 470ms/step - accuracy: 0.8766 - loss: 0.4598 - val_accuracy: 0.8839 - val_loss: 0.4308\n",
      "Epoch 2/5\n",
      "\u001b[1m1143/1143\u001b[0m \u001b[32m━━━━━━━━━━━━━━━━━━━━\u001b[0m\u001b[37m\u001b[0m \u001b[1m64s\u001b[0m 56ms/step - accuracy: 0.9198 - loss: 0.2728 - val_accuracy: 0.8938 - val_loss: 0.3437\n",
      "Epoch 3/5\n",
      "\u001b[1m1143/1143\u001b[0m \u001b[32m━━━━━━━━━━━━━━━━━━━━\u001b[0m\u001b[37m\u001b[0m \u001b[1m63s\u001b[0m 55ms/step - accuracy: 0.9322 - loss: 0.2175 - val_accuracy: 0.9217 - val_loss: 0.2735\n",
      "Epoch 4/5\n",
      "\u001b[1m1143/1143\u001b[0m \u001b[32m━━━━━━━━━━━━━━━━━━━━\u001b[0m\u001b[37m\u001b[0m \u001b[1m64s\u001b[0m 56ms/step - accuracy: 0.9451 - loss: 0.1786 - val_accuracy: 0.9310 - val_loss: 0.2385\n",
      "Epoch 5/5\n",
      "\u001b[1m1143/1143\u001b[0m \u001b[32m━━━━━━━━━━━━━━━━━━━━\u001b[0m\u001b[37m\u001b[0m \u001b[1m42s\u001b[0m 37ms/step - accuracy: 0.9470 - loss: 0.1617 - val_accuracy: 0.9366 - val_loss: 0.2117\n"
     ]
    },
    {
     "data": {
      "text/plain": [
       "<keras.src.callbacks.history.History at 0x26ee9b85970>"
      ]
     },
     "execution_count": 11,
     "metadata": {},
     "output_type": "execute_result"
    }
   ],
   "source": [
    "from tensorflow.keras.preprocessing.image import ImageDataGenerator\n",
    "datagen = ImageDataGenerator(rescale=1.0/255, rotation_range=10, zoom_range=0.2)\n",
    "train_data = datagen.flow_from_directory(train_dir, target_size=(28, 28), color_mode='grayscale', batch_size=32, class_mode='sparse')\n",
    "\n",
    "model.fit(train_data, validation_data=val_data, epochs=5)  \n"
   ]
  },
  {
   "cell_type": "code",
   "execution_count": null,
   "metadata": {},
   "outputs": [],
   "source": [
    "model.save(\"ocr_model_final.keras\")"
   ]
  }
 ],
 "metadata": {
  "kernelspec": {
   "display_name": "tfodj",
   "language": "python",
   "name": "tfodj"
  },
  "language_info": {
   "codemirror_mode": {
    "name": "ipython",
    "version": 3
   },
   "file_extension": ".py",
   "mimetype": "text/x-python",
   "name": "python",
   "nbconvert_exporter": "python",
   "pygments_lexer": "ipython3",
   "version": "3.12.0"
  }
 },
 "nbformat": 4,
 "nbformat_minor": 2
}
